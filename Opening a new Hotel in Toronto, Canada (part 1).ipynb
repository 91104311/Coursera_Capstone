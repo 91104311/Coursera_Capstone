{
 "cells": [
  {
   "cell_type": "markdown",
   "metadata": {},
   "source": [
    "# Capstone Project - Battle of Neighborhoods (week 4)"
   ]
  },
  {
   "cell_type": "markdown",
   "metadata": {},
   "source": [
    "## Introduction: Business Problem \n"
   ]
  },
  {
   "cell_type": "markdown",
   "metadata": {},
   "source": [
    "In this project we try to find the best location for building a new hotel in Toronto, Canada. \n",
    "\n",
    "Toronto is the capital city of the Canadian province of Ontario. With a recorded population of 2,731,571 in 2016, it is the most populous city in Canada and the fourth most populous city in North America. The city is the anchor of the Golden Horseshoe, an urban agglomeration of 9,245,438 people (as of 2016) surrounding the western end of Lake Ontario, while the Greater Toronto Area (GTA) proper had a 2016 population of 6,417,516. Toronto is an international centre of business, finance, arts, and culture, and is recognized as one of the most multicultural and cosmopolitan cities in the world\n",
    "\n",
    "Our goal is to find the best place to building a new hotel. We want to build a hotel in the neighborhood which the competition is low, and there are not already crowded with hotels. However, we want to make sure that this place is close enough to the large amount of entertainment centers. \n",
    "\n",
    "This report can provide a helpful information for stakeholders who are interested in opening a hotel in Toronto, Canada."
   ]
  },
  {
   "cell_type": "markdown",
   "metadata": {},
   "source": [
    "## DATA"
   ]
  },
  {
   "cell_type": "markdown",
   "metadata": {},
   "source": [
    "In this project, we will fetch or extract data from the following data sources:\n",
    "1. https://en.wikipedia.org/wiki/List_of_postal_codes_of_Canada:_M\n",
    "      . I scrapeed the Wikipedia page and wrangle the data, clean it, and then read it into a pandas dataframe so that \n",
    "      it is in a structured format. This webpage includes Toronto boroughs and neighborhoods. \n",
    "2. http://cocl.us/Geospatial_data\n",
    "      Here is a link to a csv file that has the geographical coordinates of each postal code\n",
    "3. Hotels and Entertainment centers data in every neighborhood will be obtained using Foursquare API"
   ]
  }
 ],
 "metadata": {
  "kernelspec": {
   "display_name": "Python 3",
   "language": "python",
   "name": "python3"
  },
  "language_info": {
   "codemirror_mode": {
    "name": "ipython",
    "version": 3
   },
   "file_extension": ".py",
   "mimetype": "text/x-python",
   "name": "python",
   "nbconvert_exporter": "python",
   "pygments_lexer": "ipython3",
   "version": "3.8.3"
  }
 },
 "nbformat": 4,
 "nbformat_minor": 4
}
